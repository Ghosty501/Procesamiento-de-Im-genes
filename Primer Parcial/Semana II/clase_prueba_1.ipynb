{
 "cells": [
  {
   "cell_type": "markdown",
   "metadata": {},
   "source": [
    "# Título 1"
   ]
  },
  {
   "cell_type": "markdown",
   "metadata": {},
   "source": [
    "## Subtítulo 1.1"
   ]
  },
  {
   "cell_type": "markdown",
   "metadata": {},
   "source": [
    "### Subtítulo 1.1.1"
   ]
  },
  {
   "cell_type": "markdown",
   "metadata": {},
   "source": [
    "#### Subtítulo 1.1.1.1"
   ]
  },
  {
   "cell_type": "markdown",
   "metadata": {},
   "source": [
    "**Hola mundo**"
   ]
  },
  {
   "cell_type": "markdown",
   "metadata": {},
   "source": [
    "*cursiva*"
   ]
  },
  {
   "cell_type": "code",
   "execution_count": 1,
   "metadata": {},
   "outputs": [
    {
     "name": "stdout",
     "output_type": "stream",
     "text": [
      "Hello World\n"
     ]
    }
   ],
   "source": [
    "print(\"Hello World\")"
   ]
  },
  {
   "cell_type": "code",
   "execution_count": 2,
   "metadata": {},
   "outputs": [],
   "source": [
    "# Variables\n",
    "# PEP\n",
    "\n",
    "entero = 10\n",
    "flotante = 3.14151926\n",
    "string = 'Hola mundo'\n",
    "lista = [1, 1.1, \"hola\", True, [], ()]\n",
    "booleano= True"
   ]
  },
  {
   "cell_type": "code",
   "execution_count": 3,
   "metadata": {},
   "outputs": [
    {
     "name": "stdout",
     "output_type": "stream",
     "text": [
      "10\n"
     ]
    }
   ],
   "source": [
    "print(entero)"
   ]
  },
  {
   "cell_type": "code",
   "execution_count": null,
   "metadata": {},
   "outputs": [],
   "source": [
    "\n",
    "# Operadores aritméticos\n",
    "\n",
    "# print(entero + entero)\n",
    "# print(entero - flotante)\n",
    "# print(entero * entero)\n",
    "# print(entero / entero)\n",
    "# print(entero // entero)\n",
    "# print(2 ** 10)\n",
    "# print(entero % entero)"
   ]
  },
  {
   "cell_type": "code",
   "execution_count": null,
   "metadata": {},
   "outputs": [],
   "source": [
    "\n",
    "# Operadores lógicos\n",
    "\n",
    "# >\n",
    "# <\n",
    "# ==\n",
    "# !=\n",
    "# >=\n",
    "# <="
   ]
  },
  {
   "cell_type": "code",
   "execution_count": 4,
   "metadata": {},
   "outputs": [
    {
     "data": {
      "text/plain": [
       "True"
      ]
     },
     "execution_count": 4,
     "metadata": {},
     "output_type": "execute_result"
    }
   ],
   "source": [
    "10>2"
   ]
  },
  {
   "cell_type": "code",
   "execution_count": 5,
   "metadata": {},
   "outputs": [
    {
     "data": {
      "text/plain": [
       "True"
      ]
     },
     "execution_count": 5,
     "metadata": {},
     "output_type": "execute_result"
    }
   ],
   "source": [
    "2<10"
   ]
  },
  {
   "cell_type": "code",
   "execution_count": 6,
   "metadata": {},
   "outputs": [
    {
     "data": {
      "text/plain": [
       "True"
      ]
     },
     "execution_count": 6,
     "metadata": {},
     "output_type": "execute_result"
    }
   ],
   "source": [
    "1!=2"
   ]
  },
  {
   "cell_type": "code",
   "execution_count": 7,
   "metadata": {},
   "outputs": [
    {
     "data": {
      "text/plain": [
       "True"
      ]
     },
     "execution_count": 7,
     "metadata": {},
     "output_type": "execute_result"
    }
   ],
   "source": [
    "100 == 100"
   ]
  },
  {
   "cell_type": "code",
   "execution_count": 8,
   "metadata": {},
   "outputs": [
    {
     "data": {
      "text/plain": [
       "True"
      ]
     },
     "execution_count": 8,
     "metadata": {},
     "output_type": "execute_result"
    }
   ],
   "source": [
    "2 >= 2"
   ]
  },
  {
   "cell_type": "code",
   "execution_count": 9,
   "metadata": {},
   "outputs": [
    {
     "data": {
      "text/plain": [
       "True"
      ]
     },
     "execution_count": 9,
     "metadata": {},
     "output_type": "execute_result"
    }
   ],
   "source": [
    "3 <= 3"
   ]
  },
  {
   "cell_type": "code",
   "execution_count": 10,
   "metadata": {},
   "outputs": [
    {
     "name": "stdout",
     "output_type": "stream",
     "text": [
      "No, no se entró\n"
     ]
    }
   ],
   "source": [
    "# Condicional\n",
    "\n",
    "if 1 == 0:\n",
    "    print(\"Sí se entró\")\n",
    "else:\n",
    "    print(\"No, no se entró\")\n",
    "#Otra cosa"
   ]
  },
  {
   "cell_type": "code",
   "execution_count": 11,
   "metadata": {},
   "outputs": [
    {
     "name": "stdout",
     "output_type": "stream",
     "text": [
      "1\n"
     ]
    }
   ],
   "source": [
    "\n",
    "i = 0\n",
    "\n",
    "if i == 0:\n",
    "  i += 1\n",
    "elif i == 1:\n",
    "  i += 1\n",
    "elif i == 2:\n",
    "  i += 1\n",
    "elif i == 3:\n",
    "  i += 1\n",
    "else:\n",
    "  print(\"No se cumplió ninguna opción\")\n",
    "\n",
    "print(i)"
   ]
  },
  {
   "cell_type": "code",
   "execution_count": 12,
   "metadata": {},
   "outputs": [
    {
     "data": {
      "text/plain": [
       "'Hola'"
      ]
     },
     "execution_count": 12,
     "metadata": {},
     "output_type": "execute_result"
    }
   ],
   "source": [
    "\"Hola\""
   ]
  },
  {
   "cell_type": "code",
   "execution_count": 13,
   "metadata": {},
   "outputs": [
    {
     "data": {
      "text/plain": [
       "[1, 4, 7]"
      ]
     },
     "execution_count": 13,
     "metadata": {},
     "output_type": "execute_result"
    }
   ],
   "source": [
    "list(range(1, 10, 3))"
   ]
  },
  {
   "cell_type": "code",
   "execution_count": 14,
   "metadata": {},
   "outputs": [
    {
     "name": "stdout",
     "output_type": "stream",
     "text": [
      "Hola mundo\n",
      "Hola mundo\n",
      "Hola mundo\n",
      "Hola mundo\n",
      "Hola mundo\n",
      "Hola mundo\n",
      "Hola mundo\n",
      "Hola mundo\n",
      "Hola mundo\n",
      "Hola mundo\n",
      "Hola mundo\n",
      "Hola mundo\n",
      "Hola mundo\n",
      "Hola mundo\n",
      "Hola mundo\n",
      "Hola mundo\n",
      "Hola mundo\n",
      "Hola mundo\n",
      "Hola mundo\n",
      "Hola mundo\n",
      "Hola mundo\n",
      "Hola mundo\n",
      "Hola mundo\n",
      "Hola mundo\n",
      "Hola mundo\n",
      "Hola mundo\n",
      "Hola mundo\n",
      "Hola mundo\n",
      "Hola mundo\n",
      "Hola mundo\n",
      "Hola mundo\n",
      "Hola mundo\n",
      "Hola mundo\n",
      "Hola mundo\n",
      "Hola mundo\n",
      "Hola mundo\n",
      "Hola mundo\n",
      "Hola mundo\n",
      "Hola mundo\n",
      "Hola mundo\n",
      "Hola mundo\n",
      "Hola mundo\n",
      "Hola mundo\n",
      "Hola mundo\n",
      "Hola mundo\n",
      "Hola mundo\n",
      "Hola mundo\n",
      "Hola mundo\n",
      "Hola mundo\n",
      "Hola mundo\n",
      "Hola mundo\n",
      "Hola mundo\n",
      "Hola mundo\n",
      "Hola mundo\n",
      "Hola mundo\n",
      "Hola mundo\n",
      "Hola mundo\n",
      "Hola mundo\n",
      "Hola mundo\n",
      "Hola mundo\n",
      "Hola mundo\n",
      "Hola mundo\n",
      "Hola mundo\n",
      "Hola mundo\n",
      "Hola mundo\n",
      "Hola mundo\n",
      "Hola mundo\n",
      "Hola mundo\n",
      "Hola mundo\n",
      "Hola mundo\n",
      "Hola mundo\n",
      "Hola mundo\n",
      "Hola mundo\n",
      "Hola mundo\n",
      "Hola mundo\n",
      "Hola mundo\n",
      "Hola mundo\n",
      "Hola mundo\n",
      "Hola mundo\n",
      "Hola mundo\n",
      "Hola mundo\n",
      "Hola mundo\n",
      "Hola mundo\n",
      "Hola mundo\n",
      "Hola mundo\n",
      "Hola mundo\n",
      "Hola mundo\n",
      "Hola mundo\n",
      "Hola mundo\n",
      "Hola mundo\n",
      "Hola mundo\n",
      "Hola mundo\n",
      "Hola mundo\n",
      "Hola mundo\n",
      "Hola mundo\n",
      "Hola mundo\n",
      "Hola mundo\n",
      "Hola mundo\n",
      "Hola mundo\n",
      "Hola mundo\n"
     ]
    }
   ],
   "source": [
    "#Ciclos\n",
    "\n",
    "#FOR\n",
    "\n",
    "for i in range (100):\n",
    "    print(\"Hola mundo\")"
   ]
  }
 ],
 "metadata": {
  "kernelspec": {
   "display_name": "Python 3",
   "language": "python",
   "name": "python3"
  },
  "language_info": {
   "codemirror_mode": {
    "name": "ipython",
    "version": 3
   },
   "file_extension": ".py",
   "mimetype": "text/x-python",
   "name": "python",
   "nbconvert_exporter": "python",
   "pygments_lexer": "ipython3",
   "version": "3.12.3"
  }
 },
 "nbformat": 4,
 "nbformat_minor": 2
}
